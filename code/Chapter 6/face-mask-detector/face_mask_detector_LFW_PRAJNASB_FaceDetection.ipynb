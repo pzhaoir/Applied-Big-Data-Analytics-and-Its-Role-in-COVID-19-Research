{
  "nbformat": 4,
  "nbformat_minor": 0,
  "metadata": {
    "colab": {
      "name": "face-mask-detector-LFW-PRAJNASB-FaceDetection.ipynb",
      "provenance": []
    },
    "kernelspec": {
      "name": "python3",
      "display_name": "Python 3"
    },
    "language_info": {
      "name": "python"
    },
    "accelerator": "GPU"
  },
  "cells": [
    {
      "cell_type": "code",
      "metadata": {
        "colab": {
          "base_uri": "https://localhost:8080/"
        },
        "id": "fez7oCDTIg2z",
        "outputId": "d2c51796-8495-499f-9aa9-b3610fe48664"
      },
      "source": [
        "from google.colab import drive\n",
        "drive.mount('/content/drive')"
      ],
      "execution_count": null,
      "outputs": [
        {
          "output_type": "stream",
          "text": [
            "Mounted at /content/drive\n"
          ],
          "name": "stdout"
        }
      ]
    },
    {
      "cell_type": "code",
      "metadata": {
        "colab": {
          "base_uri": "https://localhost:8080/"
        },
        "id": "Dqs_MqCyJpJn",
        "outputId": "4c8896f2-da58-44ea-984b-73b0377e4301"
      },
      "source": [
        "%cd /content/drive/MyDrive/face-mask-detector/"
      ],
      "execution_count": null,
      "outputs": [
        {
          "output_type": "stream",
          "text": [
            "/content/drive/MyDrive/face-mask-detector\n"
          ],
          "name": "stdout"
        }
      ]
    },
    {
      "cell_type": "markdown",
      "metadata": {
        "id": "wAEFeLnSKFGj"
      },
      "source": [
        "##Train face mask detector"
      ]
    },
    {
      "cell_type": "code",
      "metadata": {
        "colab": {
          "base_uri": "https://localhost:8080/"
        },
        "id": "VOW-P--1KAlb",
        "outputId": "eaba005c-cd98-4265-d6e1-992922cfb4eb"
      },
      "source": [
        "!python train_mask_detector.py --dataset dataset"
      ],
      "execution_count": null,
      "outputs": [
        {
          "output_type": "stream",
          "text": [
            "2021-05-18 20:46:15.842206: I tensorflow/stream_executor/platform/default/dso_loader.cc:49] Successfully opened dynamic library libcudart.so.11.0\n",
            "[INFO] loading images...\n",
            "WARNING:tensorflow:`input_shape` is undefined or non-square, or `rows` is not in [96, 128, 160, 192, 224]. Weights for input shape (224, 224) will be loaded as the default.\n",
            "2021-05-18 20:46:25.229330: I tensorflow/compiler/jit/xla_cpu_device.cc:41] Not creating XLA devices, tf_xla_enable_xla_devices not set\n",
            "2021-05-18 20:46:25.230363: I tensorflow/stream_executor/platform/default/dso_loader.cc:49] Successfully opened dynamic library libcuda.so.1\n",
            "2021-05-18 20:46:25.262771: I tensorflow/stream_executor/cuda/cuda_gpu_executor.cc:941] successful NUMA node read from SysFS had negative value (-1), but there must be at least one NUMA node, so returning NUMA node zero\n",
            "2021-05-18 20:46:25.263331: I tensorflow/core/common_runtime/gpu/gpu_device.cc:1720] Found device 0 with properties: \n",
            "pciBusID: 0000:00:04.0 name: Tesla T4 computeCapability: 7.5\n",
            "coreClock: 1.59GHz coreCount: 40 deviceMemorySize: 14.75GiB deviceMemoryBandwidth: 298.08GiB/s\n",
            "2021-05-18 20:46:25.263373: I tensorflow/stream_executor/platform/default/dso_loader.cc:49] Successfully opened dynamic library libcudart.so.11.0\n",
            "2021-05-18 20:46:25.265564: I tensorflow/stream_executor/platform/default/dso_loader.cc:49] Successfully opened dynamic library libcublas.so.11\n",
            "2021-05-18 20:46:25.265652: I tensorflow/stream_executor/platform/default/dso_loader.cc:49] Successfully opened dynamic library libcublasLt.so.11\n",
            "2021-05-18 20:46:25.267476: I tensorflow/stream_executor/platform/default/dso_loader.cc:49] Successfully opened dynamic library libcufft.so.10\n",
            "2021-05-18 20:46:25.267901: I tensorflow/stream_executor/platform/default/dso_loader.cc:49] Successfully opened dynamic library libcurand.so.10\n",
            "2021-05-18 20:46:25.269579: I tensorflow/stream_executor/platform/default/dso_loader.cc:49] Successfully opened dynamic library libcusolver.so.10\n",
            "2021-05-18 20:46:25.270064: I tensorflow/stream_executor/platform/default/dso_loader.cc:49] Successfully opened dynamic library libcusparse.so.11\n",
            "2021-05-18 20:46:25.270247: I tensorflow/stream_executor/platform/default/dso_loader.cc:49] Successfully opened dynamic library libcudnn.so.8\n",
            "2021-05-18 20:46:25.270354: I tensorflow/stream_executor/cuda/cuda_gpu_executor.cc:941] successful NUMA node read from SysFS had negative value (-1), but there must be at least one NUMA node, so returning NUMA node zero\n",
            "2021-05-18 20:46:25.270968: I tensorflow/stream_executor/cuda/cuda_gpu_executor.cc:941] successful NUMA node read from SysFS had negative value (-1), but there must be at least one NUMA node, so returning NUMA node zero\n",
            "2021-05-18 20:46:25.271545: I tensorflow/core/common_runtime/gpu/gpu_device.cc:1862] Adding visible gpu devices: 0\n",
            "2021-05-18 20:46:25.271919: I tensorflow/compiler/jit/xla_gpu_device.cc:99] Not creating XLA devices, tf_xla_enable_xla_devices not set\n",
            "2021-05-18 20:46:25.272039: I tensorflow/stream_executor/cuda/cuda_gpu_executor.cc:941] successful NUMA node read from SysFS had negative value (-1), but there must be at least one NUMA node, so returning NUMA node zero\n",
            "2021-05-18 20:46:25.272575: I tensorflow/core/common_runtime/gpu/gpu_device.cc:1720] Found device 0 with properties: \n",
            "pciBusID: 0000:00:04.0 name: Tesla T4 computeCapability: 7.5\n",
            "coreClock: 1.59GHz coreCount: 40 deviceMemorySize: 14.75GiB deviceMemoryBandwidth: 298.08GiB/s\n",
            "2021-05-18 20:46:25.272602: I tensorflow/stream_executor/platform/default/dso_loader.cc:49] Successfully opened dynamic library libcudart.so.11.0\n",
            "2021-05-18 20:46:25.272636: I tensorflow/stream_executor/platform/default/dso_loader.cc:49] Successfully opened dynamic library libcublas.so.11\n",
            "2021-05-18 20:46:25.272658: I tensorflow/stream_executor/platform/default/dso_loader.cc:49] Successfully opened dynamic library libcublasLt.so.11\n",
            "2021-05-18 20:46:25.272681: I tensorflow/stream_executor/platform/default/dso_loader.cc:49] Successfully opened dynamic library libcufft.so.10\n",
            "2021-05-18 20:46:25.272702: I tensorflow/stream_executor/platform/default/dso_loader.cc:49] Successfully opened dynamic library libcurand.so.10\n",
            "2021-05-18 20:46:25.272724: I tensorflow/stream_executor/platform/default/dso_loader.cc:49] Successfully opened dynamic library libcusolver.so.10\n",
            "2021-05-18 20:46:25.272744: I tensorflow/stream_executor/platform/default/dso_loader.cc:49] Successfully opened dynamic library libcusparse.so.11\n",
            "2021-05-18 20:46:25.272776: I tensorflow/stream_executor/platform/default/dso_loader.cc:49] Successfully opened dynamic library libcudnn.so.8\n",
            "2021-05-18 20:46:25.272843: I tensorflow/stream_executor/cuda/cuda_gpu_executor.cc:941] successful NUMA node read from SysFS had negative value (-1), but there must be at least one NUMA node, so returning NUMA node zero\n",
            "2021-05-18 20:46:25.273395: I tensorflow/stream_executor/cuda/cuda_gpu_executor.cc:941] successful NUMA node read from SysFS had negative value (-1), but there must be at least one NUMA node, so returning NUMA node zero\n",
            "2021-05-18 20:46:25.273920: I tensorflow/core/common_runtime/gpu/gpu_device.cc:1862] Adding visible gpu devices: 0\n",
            "2021-05-18 20:46:25.273972: I tensorflow/stream_executor/platform/default/dso_loader.cc:49] Successfully opened dynamic library libcudart.so.11.0\n",
            "2021-05-18 20:46:25.862091: I tensorflow/core/common_runtime/gpu/gpu_device.cc:1261] Device interconnect StreamExecutor with strength 1 edge matrix:\n",
            "2021-05-18 20:46:25.862170: I tensorflow/core/common_runtime/gpu/gpu_device.cc:1267]      0 \n",
            "2021-05-18 20:46:25.862186: I tensorflow/core/common_runtime/gpu/gpu_device.cc:1280] 0:   N \n",
            "2021-05-18 20:46:25.862421: I tensorflow/stream_executor/cuda/cuda_gpu_executor.cc:941] successful NUMA node read from SysFS had negative value (-1), but there must be at least one NUMA node, so returning NUMA node zero\n",
            "2021-05-18 20:46:25.863061: I tensorflow/stream_executor/cuda/cuda_gpu_executor.cc:941] successful NUMA node read from SysFS had negative value (-1), but there must be at least one NUMA node, so returning NUMA node zero\n",
            "2021-05-18 20:46:25.863659: I tensorflow/stream_executor/cuda/cuda_gpu_executor.cc:941] successful NUMA node read from SysFS had negative value (-1), but there must be at least one NUMA node, so returning NUMA node zero\n",
            "2021-05-18 20:46:25.864192: W tensorflow/core/common_runtime/gpu/gpu_bfc_allocator.cc:39] Overriding allow_growth setting because the TF_FORCE_GPU_ALLOW_GROWTH environment variable is set. Original config value was 0.\n",
            "2021-05-18 20:46:25.864244: I tensorflow/core/common_runtime/gpu/gpu_device.cc:1406] Created TensorFlow device (/job:localhost/replica:0/task:0/device:GPU:0 with 13994 MB memory) -> physical GPU (device: 0, name: Tesla T4, pci bus id: 0000:00:04.0, compute capability: 7.5)\n",
            "[INFO] compiling model...\n",
            "[INFO] training head...\n",
            "2021-05-18 20:46:27.210936: I tensorflow/compiler/mlir/mlir_graph_optimization_pass.cc:116] None of the MLIR optimization passes are enabled (registered 2)\n",
            "2021-05-18 20:46:27.211329: I tensorflow/core/platform/profile_utils/cpu_utils.cc:112] CPU Frequency: 2199995000 Hz\n",
            "Epoch 1/20\n",
            "2021-05-18 20:46:29.218412: I tensorflow/stream_executor/platform/default/dso_loader.cc:49] Successfully opened dynamic library libcublas.so.11\n",
            "2021-05-18 20:46:29.843221: I tensorflow/stream_executor/platform/default/dso_loader.cc:49] Successfully opened dynamic library libcublasLt.so.11\n",
            "2021-05-18 20:46:29.854219: I tensorflow/stream_executor/platform/default/dso_loader.cc:49] Successfully opened dynamic library libcudnn.so.8\n",
            "40/40 [==============================] - 19s 363ms/step - loss: 0.6918 - accuracy: 0.6434 - val_loss: 0.2076 - val_accuracy: 0.9751\n",
            "Epoch 2/20\n",
            "40/40 [==============================] - 13s 325ms/step - loss: 0.2532 - accuracy: 0.9495 - val_loss: 0.0885 - val_accuracy: 0.9938\n",
            "Epoch 3/20\n",
            "40/40 [==============================] - 13s 324ms/step - loss: 0.1240 - accuracy: 0.9882 - val_loss: 0.0512 - val_accuracy: 0.9938\n",
            "Epoch 4/20\n",
            "40/40 [==============================] - 13s 322ms/step - loss: 0.0844 - accuracy: 0.9878 - val_loss: 0.0358 - val_accuracy: 0.9969\n",
            "Epoch 5/20\n",
            "40/40 [==============================] - 13s 321ms/step - loss: 0.0619 - accuracy: 0.9923 - val_loss: 0.0259 - val_accuracy: 0.9969\n",
            "Epoch 6/20\n",
            "40/40 [==============================] - 13s 324ms/step - loss: 0.0508 - accuracy: 0.9896 - val_loss: 0.0217 - val_accuracy: 1.0000\n",
            "Epoch 7/20\n",
            "40/40 [==============================] - 13s 327ms/step - loss: 0.0384 - accuracy: 0.9953 - val_loss: 0.0178 - val_accuracy: 1.0000\n",
            "Epoch 8/20\n",
            "40/40 [==============================] - 13s 323ms/step - loss: 0.0346 - accuracy: 0.9942 - val_loss: 0.0162 - val_accuracy: 1.0000\n",
            "Epoch 9/20\n",
            "40/40 [==============================] - 13s 322ms/step - loss: 0.0311 - accuracy: 0.9927 - val_loss: 0.0151 - val_accuracy: 1.0000\n",
            "Epoch 10/20\n",
            "40/40 [==============================] - 13s 321ms/step - loss: 0.0282 - accuracy: 0.9949 - val_loss: 0.0134 - val_accuracy: 1.0000\n",
            "Epoch 11/20\n",
            "40/40 [==============================] - 13s 323ms/step - loss: 0.0269 - accuracy: 0.9942 - val_loss: 0.0118 - val_accuracy: 1.0000\n",
            "Epoch 12/20\n",
            "40/40 [==============================] - 13s 329ms/step - loss: 0.0253 - accuracy: 0.9940 - val_loss: 0.0114 - val_accuracy: 1.0000\n",
            "Epoch 13/20\n",
            "40/40 [==============================] - 13s 327ms/step - loss: 0.0181 - accuracy: 0.9980 - val_loss: 0.0105 - val_accuracy: 1.0000\n",
            "Epoch 14/20\n",
            "40/40 [==============================] - 13s 333ms/step - loss: 0.0216 - accuracy: 0.9964 - val_loss: 0.0116 - val_accuracy: 1.0000\n",
            "Epoch 15/20\n",
            "40/40 [==============================] - 14s 337ms/step - loss: 0.0287 - accuracy: 0.9926 - val_loss: 0.0091 - val_accuracy: 1.0000\n",
            "Epoch 16/20\n",
            "40/40 [==============================] - 14s 340ms/step - loss: 0.0193 - accuracy: 0.9936 - val_loss: 0.0084 - val_accuracy: 1.0000\n",
            "Epoch 17/20\n",
            "40/40 [==============================] - 13s 335ms/step - loss: 0.0129 - accuracy: 0.9975 - val_loss: 0.0083 - val_accuracy: 1.0000\n",
            "Epoch 18/20\n",
            "40/40 [==============================] - 13s 328ms/step - loss: 0.0148 - accuracy: 0.9975 - val_loss: 0.0091 - val_accuracy: 1.0000\n",
            "Epoch 19/20\n",
            "40/40 [==============================] - 13s 327ms/step - loss: 0.0199 - accuracy: 0.9908 - val_loss: 0.0068 - val_accuracy: 1.0000\n",
            "Epoch 20/20\n",
            "40/40 [==============================] - 13s 327ms/step - loss: 0.0144 - accuracy: 0.9981 - val_loss: 0.0065 - val_accuracy: 1.0000\n",
            "[INFO] evaluating network...\n",
            "              precision    recall  f1-score   support\n",
            "\n",
            "   with_mask       1.00      1.00      1.00       160\n",
            "without_mask       1.00      1.00      1.00       161\n",
            "\n",
            "    accuracy                           1.00       321\n",
            "   macro avg       1.00      1.00      1.00       321\n",
            "weighted avg       1.00      1.00      1.00       321\n",
            "\n",
            "[INFO] saving mask detector model...\n"
          ],
          "name": "stdout"
        }
      ]
    }
  ]
}